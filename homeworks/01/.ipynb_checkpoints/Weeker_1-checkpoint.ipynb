{
 "cells": [
  {
   "cell_type": "markdown",
   "metadata": {},
   "source": [
    "# Недельник 1\n",
    "\n",
    "Как было сказано на лекции, на текущей неделе вы получаете ежедневные задания. Система оценки следующая: в первый день(четверг) вы делаете первый pull-request в ветку homework_01. Потом каждый день делаете коммит, он будет автоматически привязывать к pull-request. Если задачка не сделана в течении 2-х дней она сгорает. (Можно четверг сделать в четверг и пятницу)"
   ]
  },
  {
   "cell_type": "markdown",
   "metadata": {},
   "source": [
    "# Четверг"
   ]
  },
  {
   "cell_type": "code",
   "execution_count": 1,
   "metadata": {},
   "outputs": [],
   "source": [
    "#TODO Сделайте калькулятор произвольных выражений, операции следующие: +, -, /, ^, *. скобок нет\n",
    "def calculate(input_str):\n",
    "    a=input_str.split()\n",
    "    while len(a)>1:\n",
    "        for i in a:\n",
    "            if (i.find(\"^\")!=-1):\n",
    "                b=int(i[:i.find(\"^\")])**int(i[i.find(\"^\")+1:])\n",
    "                c=a.index(i)\n",
    "                a.remove(i)\n",
    "                a.insert(c,str(b))\n",
    "        while a.count('*')> 0 and a.count('/')>0 :\n",
    "            if a.index('*') < a.index(\"/\") and a.index('*')>0 :\n",
    "                i=a.index('*')\n",
    "                b=int(a[i-1])*int(a[i+1])\n",
    "                a[i-1]='*'\n",
    "                a.remove('*')\n",
    "                a.remove('*')\n",
    "                i -= 1\n",
    "                a[i]=b\n",
    "            elif a.index('*') > a.index(\"/\") and a.index('/')>0:    \n",
    "                i=a.index('/')\n",
    "                b=int(a[i-1])/int(a[i+1])\n",
    "                a[i-1]='/'\n",
    "                a.remove('/')\n",
    "                a.remove('/')\n",
    "                i -= 1\n",
    "                a[i]=b\n",
    "        \n",
    "        while a.count('*')>0:\n",
    "            i=a.index('*')\n",
    "            b=int(a[i-1])*int(a[i+1])\n",
    "            a[i-1]='*'\n",
    "            a.remove('*')\n",
    "            a.remove('*')\n",
    "            i -= 1\n",
    "            a[i]=b\n",
    "        while a.count('/')>0:\n",
    "            i=a.index('/')\n",
    "            b=int(a[i-1])/int(a[i+1])\n",
    "            a[i-1]='/'\n",
    "            a.remove('/')\n",
    "            a.remove('/')\n",
    "            i -= 1\n",
    "            a[i]=b\n",
    "        while a.count('+')> 0 and a.count('-')>0 :\n",
    "            if a.index('+') < a.index(\"-\") and a.index('+')>0 :\n",
    "                i=a.index('+')\n",
    "                b=int(a[i-1])+int(a[i+1])\n",
    "                a[i-1]='+'\n",
    "                a.remove('+')\n",
    "                a.remove('+')\n",
    "                i -= 1\n",
    "                a[i]=b\n",
    "            elif a.index('+') > a.index(\"-\") and a.index('-')>0:    \n",
    "                i=a.index('-')\n",
    "                b=int(a[i-1])-int(a[i+1])\n",
    "                a[i-1]='-'\n",
    "                a.remove('-')\n",
    "                a.remove('-')\n",
    "                i -= 1\n",
    "                a[i]=b\n",
    "        \n",
    "        while a.count('+')>0:\n",
    "            i=a.index('+')\n",
    "            b=int(a[i-1])+int(a[i+1])\n",
    "            a[i-1]='+'\n",
    "            a.remove('+')\n",
    "            a.remove('+')\n",
    "            i -= 1\n",
    "            a[i]=b\n",
    "                \n",
    "        while a.count('-')>0:\n",
    "            i=a.index('-')\n",
    "            b=int(a[i-1])-int(a[i+1])\n",
    "            a[i-1]='-'\n",
    "            a.remove('-')\n",
    "            a.remove('-')\n",
    "            i -= 1\n",
    "            a[i]=b\n",
    "                \n",
    "               \n",
    "    b=int(a[0])\n",
    "    return b"
   ]
  },
  {
   "cell_type": "code",
   "execution_count": 4,
   "metadata": {},
   "outputs": [],
   "source": [
    "assert calculate(\"2 + 2 * 2\") == 6\n",
    "assert calculate(\"345 / 5 * 21\") == 1449.\n",
    "assert calculate(\"3^3 - 10 + 41 * 3\") == 140\n",
    "assert calculate(\"42 / 7 * 32\") == 192.0\n",
    "assert calculate (\"3 + 3 * 3\") == 12\n",
    "assert calculate (\"15^2 / 5 \") == 45\n",
    "\n",
    "#TODO Дополнить еще 2-мя своими тестами"
   ]
  },
  {
   "cell_type": "markdown",
   "metadata": {},
   "source": [
    "# Пятница"
   ]
  },
  {
   "cell_type": "code",
   "execution_count": 13,
   "metadata": {},
   "outputs": [],
   "source": [
    "#TODO метод разворачивающий строку HE2LO -> HELLO (число означает сколько раз встречается буква)\n",
    "def transform_string(inp_string):\n",
    "    i=0\n",
    "    while i<len(inp_string):\n",
    "        if inp_string[i].isdigit():\n",
    "            if inp_string[i+1].isdigit():\n",
    "                b=int(inp_string[i:i+2]) \n",
    "                a=inp_string[i+2]\n",
    "                c=a*(b-1)\n",
    "                inp_string=inp_string[:i] + c +inp_string[i+2:]       \n",
    "            else:\n",
    "                a=inp_string[i+1]\n",
    "                b=int(inp_string[i])\n",
    "                c=a*(b-1)\n",
    "                inp_string=inp_string[:i] + c +inp_string[i+1:]    \n",
    "        i += 1\n",
    "    return inp_string\n"
   ]
  },
  {
   "cell_type": "code",
   "execution_count": 17,
   "metadata": {},
   "outputs": [],
   "source": [
    "assert transform_string(\"HE2LO\") == \"HELLO\"\n",
    "assert transform_string(\"HI\") == \"HI\"\n",
    "assert transform_string(\"пр12ивет\") == \"приииииииииииивет\"\n",
    "assert transform_string(\"2л3у78н65тик\") == 'ллуууннннннннннннннннннннннннннннннннннннннннннннннннннннннннннннннннннннннннннннннтттттттттттттттттттттттттттттттттттттттттттттттттттттттттттттттттик'\n",
    "assert transform_string(\"13м5а9рат\") == 'мммммммммммммааааарррррррррат'\n",
    "assert transform_string(\"12М15И7ФИ\") == \"ММММММММММММИИИИИИИИИИИИИИИФФФФФФФИ\"\n",
    "#TODO Дописать 2 своих теста"
   ]
  },
  {
   "cell_type": "markdown",
   "metadata": {},
   "source": [
    "# Суббота"
   ]
  },
  {
   "cell_type": "code",
   "execution_count": 20,
   "metadata": {},
   "outputs": [
    {
     "name": "stdout",
     "output_type": "stream",
     "text": [
      "dict_values([2, 4, 0, 5, 1])\n"
     ]
    }
   ],
   "source": [
    "#TODO метод выводящий статистику по строке, кол-во гласных, согласных, цифр, строчных букв, прописных букв\n",
    "def string_stat(inp_string):\n",
    "    a=set([\"е\",\"ё\",\"ы\",\"а\",\"о\",\"э\",\"я\",\"и\",\"ю\",\"о\",\"Е\",\"Ё\",\"А\",\"О\",\"Я\",\"И\",\"Ю\",\"Э\",\"О\",\"Ы\"])\n",
    "    b=set(['0','1','2','3','4','5','6','7',\"8\",'9'])\n",
    "    c=set()\n",
    "    d=set()\n",
    "    f=[0,0,0,0,0]\n",
    "    for i in range(ord('а'),ord('я')):\n",
    "        c.add(chr(i))\n",
    "    for i in range(ord('А'),ord('Я')):\n",
    "        d.add(chr(i))\n",
    "    for s in inp_string:\n",
    "        if s in a:\n",
    "            f[0]+=1\n",
    "        elif s in b:\n",
    "            f[2]+=1 \n",
    "        else: \n",
    "            f[1]+= 1\n",
    "        if s in c:\n",
    "            f[3]+=1\n",
    "        elif s in d:\n",
    "            f[4]+=1\n",
    "    k = {\"key_\"+str(i):f[i] for i in range(5)}\n",
    "    h=k.values()\n",
    "    return h\n",
    "print(string_stat(\"Тевирп\"))"
   ]
  },
  {
   "cell_type": "code",
   "execution_count": 19,
   "metadata": {},
   "outputs": [
    {
     "ename": "AssertionError",
     "evalue": "",
     "output_type": "error",
     "traceback": [
      "\u001b[0;31m---------------------------------------------------------------------------\u001b[0m",
      "\u001b[0;31mAssertionError\u001b[0m                            Traceback (most recent call last)",
      "\u001b[0;32m<ipython-input-19-c2bc18413474>\u001b[0m in \u001b[0;36m<module>\u001b[0;34m()\u001b[0m\n\u001b[0;32m----> 1\u001b[0;31m \u001b[0;32massert\u001b[0m \u001b[0mstring_stat\u001b[0m\u001b[0;34m(\u001b[0m\u001b[0;34m\"Тевирп\"\u001b[0m\u001b[0;34m)\u001b[0m \u001b[0;34m==\u001b[0m \u001b[0;34m(\u001b[0m\u001b[0;36m2\u001b[0m\u001b[0;34m,\u001b[0m \u001b[0;36m4\u001b[0m\u001b[0;34m,\u001b[0m \u001b[0;36m0\u001b[0m\u001b[0;34m,\u001b[0m \u001b[0;36m5\u001b[0m\u001b[0;34m,\u001b[0m \u001b[0;36m1\u001b[0m\u001b[0;34m)\u001b[0m\u001b[0;34m\u001b[0m\u001b[0m\n\u001b[0m\u001b[1;32m      2\u001b[0m \u001b[0;32massert\u001b[0m \u001b[0mstring_stat\u001b[0m\u001b[0;34m(\u001b[0m\u001b[0;34m\"КоРоВа4\"\u001b[0m\u001b[0;34m)\u001b[0m \u001b[0;34m==\u001b[0m \u001b[0;34m(\u001b[0m\u001b[0;36m3\u001b[0m\u001b[0;34m,\u001b[0m \u001b[0;36m3\u001b[0m\u001b[0;34m,\u001b[0m \u001b[0;36m1\u001b[0m\u001b[0;34m,\u001b[0m \u001b[0;36m3\u001b[0m\u001b[0;34m,\u001b[0m \u001b[0;36m3\u001b[0m\u001b[0;34m)\u001b[0m\u001b[0;34m\u001b[0m\u001b[0m\n\u001b[1;32m      3\u001b[0m \u001b[0;31m#TODO 2 своих теста\u001b[0m\u001b[0;34m\u001b[0m\u001b[0;34m\u001b[0m\u001b[0m\n",
      "\u001b[0;31mAssertionError\u001b[0m: "
     ]
    }
   ],
   "source": [
    "assert string_stat(\"Тевирп\") == (2, 4, 0, 5, 1)\n",
    "assert string_stat(\"КоРоВа4\") == (3, 3, 1, 3, 3)\n",
    "#TODO 2 своих теста"
   ]
  },
  {
   "cell_type": "markdown",
   "metadata": {},
   "source": [
    "# Воскресенье - ВЫХОДНОЙ"
   ]
  },
  {
   "cell_type": "markdown",
   "metadata": {},
   "source": [
    "# Понедельник"
   ]
  },
  {
   "cell_type": "code",
   "execution_count": 15,
   "metadata": {},
   "outputs": [
    {
     "name": "stdout",
     "output_type": "stream",
     "text": [
      "{'eatable': 'mango', 'sleepable': 'pillow'}\n"
     ]
    }
   ],
   "source": [
    "#TODO инвертируйте словарь из k - [v_1, v_2] в v_1 [k_1]\n",
    "def dict_inverter(input_dict):\n",
    "    d=dict()\n",
    "    k=[]\n",
    "    j=[]\n",
    "    for key, value in input_dict.items():\n",
    "        a=key\n",
    "        b=value\n",
    "        k.append(b)\n",
    "        j.append(a)\n",
    "        if k.count(b)==1:\n",
    "            for i in range(0,len(b)):\n",
    "                c=b[i]\n",
    "                d.update({c:a})\n",
    "        else:\n",
    "            for i in range(0,len(b)):\n",
    "                c=b[i]\n",
    "                d.update({c:j})\n",
    "    \n",
    "    return d\n",
    "print(dict_inverter({\"mango\" : [\"eatable\"], \"pillow\": [\"sleepable\"]}))"
   ]
  },
  {
   "cell_type": "code",
   "execution_count": 17,
   "metadata": {},
   "outputs": [],
   "source": [
    "assert dict_inverter({\"mango\" : [\"eatable\"], \"pillow\": [\"sleepable\"]}) == {\"eatable\": \"mango\", \"sleepable\": \"pillow\"}\n",
    "assert dict_inverter({\"mango\" : [\"eatable\", \"readable\"]}) == {\"readable\":\"mango\", \"eatable\":\"mango\"}\n",
    "assert dict_inverter({\"mango\" : [\"eatable\"], \"banana\": [\"eatable\"]}) == {\"eatable\": [\"mango\", \"banana\"]}\n",
    "assert dict_inverter({\"run\":[\"away\",\"into\",\"to\"]}) == {'to': 'run', 'into': 'run', 'away': 'run'} \n",
    "#TODO Один свой тест"
   ]
  },
  {
   "cell_type": "markdown",
   "metadata": {},
   "source": [
    "# Вторник"
   ]
  },
  {
   "cell_type": "code",
   "execution_count": 18,
   "metadata": {},
   "outputs": [],
   "source": [
    "#TODO вывести уникальные элементы массива\n",
    "def uniq_array(input_arr):\n",
    "    a=[]\n",
    "    for i in range(0,len(input_arr)):\n",
    "        b=input_arr[i]\n",
    "        if a.count(b)==0:\n",
    "            a.append(b)\n",
    "    return a"
   ]
  },
  {
   "cell_type": "code",
   "execution_count": 20,
   "metadata": {
    "scrolled": false
   },
   "outputs": [
    {
     "ename": "AssertionError",
     "evalue": "",
     "output_type": "error",
     "traceback": [
      "\u001b[0;31m---------------------------------------------------------------------------\u001b[0m",
      "\u001b[0;31mAssertionError\u001b[0m                            Traceback (most recent call last)",
      "\u001b[0;32m<ipython-input-20-691a074443ce>\u001b[0m in \u001b[0;36m<module>\u001b[0;34m()\u001b[0m\n\u001b[1;32m      1\u001b[0m \u001b[0;32massert\u001b[0m \u001b[0muniq_array\u001b[0m\u001b[0;34m(\u001b[0m\u001b[0;34m[\u001b[0m\u001b[0;36m0\u001b[0m\u001b[0;34m]\u001b[0m\u001b[0;34m)\u001b[0m \u001b[0;34m==\u001b[0m \u001b[0;34m[\u001b[0m\u001b[0;36m0\u001b[0m\u001b[0;34m]\u001b[0m\u001b[0;34m\u001b[0m\u001b[0m\n\u001b[1;32m      2\u001b[0m \u001b[0;32massert\u001b[0m \u001b[0muniq_array\u001b[0m\u001b[0;34m(\u001b[0m\u001b[0;34m[\u001b[0m\u001b[0;36m0\u001b[0m\u001b[0;34m,\u001b[0m \u001b[0;36m1\u001b[0m\u001b[0;34m,\u001b[0m \u001b[0;36m2\u001b[0m\u001b[0;34m,\u001b[0m \u001b[0;36m3\u001b[0m\u001b[0;34m]\u001b[0m\u001b[0;34m)\u001b[0m \u001b[0;34m==\u001b[0m \u001b[0;34m[\u001b[0m\u001b[0;36m0\u001b[0m\u001b[0;34m,\u001b[0m \u001b[0;36m1\u001b[0m\u001b[0;34m,\u001b[0m \u001b[0;36m2\u001b[0m\u001b[0;34m,\u001b[0m \u001b[0;36m3\u001b[0m\u001b[0;34m]\u001b[0m\u001b[0;34m\u001b[0m\u001b[0m\n\u001b[0;32m----> 3\u001b[0;31m \u001b[0;32massert\u001b[0m \u001b[0muniq_array\u001b[0m\u001b[0;34m(\u001b[0m\u001b[0;34m[\u001b[0m\u001b[0;34m\"f\"\u001b[0m\u001b[0;34m,\u001b[0m \u001b[0;34m\"t\"\u001b[0m\u001b[0;34m,\u001b[0m \u001b[0;34m\"f\"\u001b[0m\u001b[0;34m]\u001b[0m\u001b[0;34m)\u001b[0m \u001b[0;34m==\u001b[0m \u001b[0;34m[\u001b[0m\u001b[0;34m't'\u001b[0m\u001b[0;34m,\u001b[0m \u001b[0;34m'f'\u001b[0m\u001b[0;34m]\u001b[0m\u001b[0;34m\u001b[0m\u001b[0m\n\u001b[0m\u001b[1;32m      4\u001b[0m \u001b[0;32massert\u001b[0m \u001b[0muniq_array\u001b[0m\u001b[0;34m(\u001b[0m\u001b[0;34m[\u001b[0m\u001b[0;34m'rt'\u001b[0m\u001b[0;34m,\u001b[0m \u001b[0;34m'rt'\u001b[0m\u001b[0;34m]\u001b[0m\u001b[0;34m)\u001b[0m \u001b[0;34m==\u001b[0m \u001b[0;34m[\u001b[0m\u001b[0;34m'rt'\u001b[0m\u001b[0;34m]\u001b[0m\u001b[0;34m\u001b[0m\u001b[0m\n",
      "\u001b[0;31mAssertionError\u001b[0m: "
     ]
    }
   ],
   "source": [
    "assert uniq_array([0]) == [0]\n",
    "assert uniq_array([0, 1, 2, 3]) == [0, 1, 2, 3]\n",
    "assert uniq_array([\"f\", \"t\", \"f\"]) == ['t', 'f']\n",
    "assert uniq_array(['rt', 'rt']) == ['rt']"
   ]
  },
  {
   "cell_type": "code",
   "execution_count": null,
   "metadata": {},
   "outputs": [],
   "source": []
  }
 ],
 "metadata": {
  "kernelspec": {
   "display_name": "Python 3",
   "language": "python",
   "name": "python3"
  },
  "language_info": {
   "codemirror_mode": {
    "name": "ipython",
    "version": 3
   },
   "file_extension": ".py",
   "mimetype": "text/x-python",
   "name": "python",
   "nbconvert_exporter": "python",
   "pygments_lexer": "ipython3",
   "version": "3.6.5"
  }
 },
 "nbformat": 4,
 "nbformat_minor": 2
}
