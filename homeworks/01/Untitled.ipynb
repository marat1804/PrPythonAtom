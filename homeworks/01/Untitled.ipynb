{
 "cells": [
  {
   "cell_type": "code",
   "execution_count": 1,
   "metadata": {},
   "outputs": [
    {
     "name": "stdout",
     "output_type": "stream",
     "text": [
      "[<__main__.Entry object at 0x7fd8e432b710>, <__main__.Entry object at 0x7fd8e432b550>, <__main__.Entry object at 0x7fd8e432b6d8>, <__main__.Entry object at 0x7fd8e432b748>, <__main__.Entry object at 0x7fd8e432b780>, <__main__.Entry object at 0x7fd8e432b7b8>, <__main__.Entry object at 0x7fd8e432b7f0>, <__main__.Entry object at 0x7fd8e432b828>, <__main__.Entry object at 0x7fd8e432b860>, <__main__.Entry object at 0x7fd8e432b898>, <__main__.Entry object at 0x7fd8e432b8d0>, <__main__.Entry object at 0x7fd8e432b908>, <__main__.Entry object at 0x7fd8e432b940>, <__main__.Entry object at 0x7fd8e432b978>, <__main__.Entry object at 0x7fd8e432b9b0>, <__main__.Entry object at 0x7fd8e432b9e8>, <__main__.Entry object at 0x7fd8e432ba20>, <__main__.Entry object at 0x7fd8e432ba58>, <__main__.Entry object at 0x7fd8e432ba90>, <__main__.Entry object at 0x7fd8e432bac8>, <__main__.Entry object at 0x7fd8e432bb00>, <__main__.Entry object at 0x7fd8e432bb38>, <__main__.Entry object at 0x7fd8e432bb70>, <__main__.Entry object at 0x7fd8e432bba8>, <__main__.Entry object at 0x7fd8e432bbe0>, <__main__.Entry object at 0x7fd8e432bc18>, <__main__.Entry object at 0x7fd8e432bc50>, <__main__.Entry object at 0x7fd8e432bc88>, <__main__.Entry object at 0x7fd8e432bcc0>, <__main__.Entry object at 0x7fd8e432bcf8>, <__main__.Entry object at 0x7fd8e432bd30>, <__main__.Entry object at 0x7fd8e432bd68>, <__main__.Entry object at 0x7fd8e432bda0>, <__main__.Entry object at 0x7fd8e432bdd8>, <__main__.Entry object at 0x7fd8e432be10>, <__main__.Entry object at 0x7fd8e432be48>, <__main__.Entry object at 0x7fd8e432be80>, <__main__.Entry object at 0x7fd8e432beb8>, <__main__.Entry object at 0x7fd8e432bef0>, <__main__.Entry object at 0x7fd8e432bf28>, <__main__.Entry object at 0x7fd8e432bf60>, <__main__.Entry object at 0x7fd8e432bf98>, <__main__.Entry object at 0x7fd8e432b5c0>, <__main__.Entry object at 0x7fd8e432bfd0>, <__main__.Entry object at 0x7fd8e42b2048>, <__main__.Entry object at 0x7fd8e42b2080>, <__main__.Entry object at 0x7fd8e42b20b8>, <__main__.Entry object at 0x7fd8e42b20f0>, <__main__.Entry object at 0x7fd8e42b2128>, <__main__.Entry object at 0x7fd8e42b2160>, <__main__.Entry object at 0x7fd8e42b2198>, <__main__.Entry object at 0x7fd8e42b21d0>, <__main__.Entry object at 0x7fd8e42b2240>, <__main__.Entry object at 0x7fd8e42b2278>, <__main__.Entry object at 0x7fd8e42b22b0>, <__main__.Entry object at 0x7fd8e42b22e8>, <__main__.Entry object at 0x7fd8e42b2320>, <__main__.Entry object at 0x7fd8e42b2358>, <__main__.Entry object at 0x7fd8e42b2390>, <__main__.Entry object at 0x7fd8e42b23c8>, <__main__.Entry object at 0x7fd8e42b2400>, <__main__.Entry object at 0x7fd8e42b2438>, <__main__.Entry object at 0x7fd8e42b2470>, <__main__.Entry object at 0x7fd8e42b24a8>]\n"
     ]
    }
   ],
   "source": [
    "class Entry:\n",
    "    def __init__(self, key, value):\n",
    "        self.key = key\n",
    "        self.value = value\n",
    "            \n",
    "    def get_key(self):\n",
    "        return self.key\n",
    "            \n",
    "    def get_value(self):\n",
    "        return self.value\n",
    "            \n",
    "    def __eq__(self, other):\n",
    "        if (self.key == other.key and self.value == other.value):\n",
    "            return True\n",
    "        else:\n",
    "            return False\n",
    "\n",
    "class HashMap:\n",
    "\n",
    "    def __init__(self, bucket_num = 64):\n",
    "        self.array = []\n",
    "        for _ in range(0, bucket_num):\n",
    "            self.array.append(Entry(None, None))\n",
    "\n",
    "    def get(self, key, default_value = None):\n",
    "        result = self.array[self._get_index(self._get_hash(key))].get_value()\n",
    "        if(result):\n",
    "            return result\n",
    "        else:\n",
    "            return default_value\n",
    "\n",
    "    def put(self, key, value):\n",
    "        index = self._get_index(self._get_hash(key))\n",
    "        self.array[index] = Entry(key, value)\n",
    "\n",
    "    def __len__(self):\n",
    "        result = 0\n",
    "        for i in range(0, len(self.array)):\n",
    "            if (not self.array[i].__eq__(Entry(None, None))):\n",
    "                result = result + 1\n",
    "            i = i + 1\n",
    "        return result\n",
    "\n",
    "    def _get_hash(self, key):\n",
    "        return ((key + 29) % len(self.array))\n",
    "\n",
    "    def _get_index(self, hash_value):\n",
    "        return ((hash_value + 13) % len(self.array))\n",
    "\n",
    "    def values(self):\n",
    "        return None\n",
    "        #TODO Задание со звездочкой!\n",
    "        #Должен возвращать генератор или итератор значений (на самом деле итератор, но не принципиально, через генераторы проще ИМХО)\n",
    "        \n",
    "    def keys(self):\n",
    "        return None\n",
    "        #TODO Задание со звездочкой!\n",
    "        #Должен возвращать генератор или итератор ключей (на самом деле итератор, но не принципиально, через генераторы проще ИМХО)\n",
    "        \n",
    "    def items(self):\n",
    "        return None\n",
    "        #TODO Задание со звездочкой!\n",
    "        #Должен возвращать генератор или итератор пар ключ и значение (tuples)\n",
    "        #(на самом деле итератор, но не принципиально, через генераторы проще ИМХО)\n",
    "        \n",
    "    def __str__(self): # Вывод в виде HM! { key: k1; value: v1 } { key: k2; value: v2 } ... !HM\n",
    "        result = \"HM!\"\n",
    "        for i in range(0, len(self)):\n",
    "            if(self.get(i) != None):\n",
    "                result = result + \" { key: \"\n",
    "                result = result + str(self.array[self._get_index(self._get_hash(i))].get_key())\n",
    "                result = result + \"; value: \"\n",
    "                result = result + str(self.array[self._get_index(self._get_hash(i))].get_value())\n",
    "                result = result + \" }\"\n",
    "        result = result + \" !HM\"\n",
    "        return result\n",
    "\n",
    "a = HashMap()\n",
    "for i in range(0, 10):\n",
    "    a.put(i, 9 + i + i - i * i)\n",
    "print(a.array)"
   ]
  },
  {
   "cell_type": "code",
   "execution_count": null,
   "metadata": {},
   "outputs": [],
   "source": []
  }
 ],
 "metadata": {
  "kernelspec": {
   "display_name": "Python 3",
   "language": "python",
   "name": "python3"
  },
  "language_info": {
   "codemirror_mode": {
    "name": "ipython",
    "version": 3
   },
   "file_extension": ".py",
   "mimetype": "text/x-python",
   "name": "python",
   "nbconvert_exporter": "python",
   "pygments_lexer": "ipython3",
   "version": "3.6.5"
  }
 },
 "nbformat": 4,
 "nbformat_minor": 2
}
